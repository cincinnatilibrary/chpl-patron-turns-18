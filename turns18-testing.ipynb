{
 "cells": [
  {
   "cell_type": "code",
   "execution_count": 1,
   "id": "dd2befc8-9343-484f-8e70-d8fd9af14160",
   "metadata": {},
   "outputs": [
    {
     "name": "stdout",
     "output_type": "stream",
     "text": [
      "Requirement already satisfied: sqlalchemy in ./venv/lib/python3.10/site-packages (1.4.46)\n",
      "Requirement already satisfied: greenlet!=0.4.17 in ./venv/lib/python3.10/site-packages (from sqlalchemy) (2.0.1)\n",
      "Requirement already satisfied: psycopg2-binary in ./venv/lib/python3.10/site-packages (2.9.5)\n",
      "Requirement already satisfied: requests in ./venv/lib/python3.10/site-packages (2.28.2)\n",
      "Requirement already satisfied: certifi>=2017.4.17 in ./venv/lib/python3.10/site-packages (from requests) (2022.12.7)\n",
      "Requirement already satisfied: charset-normalizer<4,>=2 in ./venv/lib/python3.10/site-packages (from requests) (3.0.1)\n",
      "Requirement already satisfied: urllib3<1.27,>=1.21.1 in ./venv/lib/python3.10/site-packages (from requests) (1.26.14)\n",
      "Requirement already satisfied: idna<4,>=2.5 in ./venv/lib/python3.10/site-packages (from requests) (3.4)\n"
     ]
    }
   ],
   "source": [
    "!pip install -U sqlalchemy\n",
    "!pip install -U psycopg2-binary\n",
    "!pip install -U requests"
   ]
  },
  {
   "cell_type": "code",
   "execution_count": 2,
   "id": "9b5c39a7-e6c6-4c2b-b8a7-9067cdd05f84",
   "metadata": {},
   "outputs": [
    {
     "name": "stdout",
     "output_type": "stream",
     "text": [
      "base_url: https://classic.cincinnatilibrary.org:443/iii/sierra-api/v6/\n",
      "token expires in: 3599\n"
     ]
    }
   ],
   "source": [
    "# these are some helper functions\n",
    "import sierraAPI\n",
    "import json\n",
    "import requests\n",
    "from sqlalchemy import create_engine, text\n",
    "from datetime import datetime\n",
    "\n",
    "# read the configuration file\n",
    "try:\n",
    "    with open(\"config.json\", \"r\") as f:\n",
    "        config = json.load(f)\n",
    "\n",
    "    client_key = config[\"client_key\"]\n",
    "    client_secret = config[\"client_secret\"]\n",
    "    base_url = config[\"base_url\"]\n",
    "    db_connection_string = config[\"db_connection_string\"]\n",
    "    print(f\"base_url: {base_url}\")\n",
    "    \n",
    "except:\n",
    "    # TODO: logging\n",
    "    exit()\n",
    "    \n",
    "    \n",
    "# connect to the Sierra DB\n",
    "try:\n",
    "    sierra_engine = create_engine(db_connection_string)\n",
    "    # print(f\"sierra_engine.url: {sierra_engine.url}\")\n",
    "\n",
    "except:\n",
    "    # TODO: logging\n",
    "    exit()\n",
    "    \n",
    "\n",
    "\n",
    "# get the header for API authorization\n",
    "try:\n",
    "    headers = sierraAPI.get_access_headers(\n",
    "        client_key=client_key, \n",
    "        client_secret=client_secret, \n",
    "        base_url=base_url\n",
    "    )\n",
    "    \n",
    "    r = requests.get(base_url + 'info/token', headers=headers, verify=True)\n",
    "    print(f\"token expires in: {r.json()['expiresIn']}\")\n",
    "\n",
    "except:\n",
    "    # TODO: logging\n",
    "    exit()"
   ]
  },
  {
   "cell_type": "code",
   "execution_count": 3,
   "id": "2adba978-1dfd-489b-b2d1-65d314b04731",
   "metadata": {},
   "outputs": [],
   "source": [
    "# get relevant information related to patrons who have turned 18 on this date\n",
    "sql = \"\"\"\\\n",
    "select\n",
    "    rm.record_num as patron_record_num,\n",
    "    pr.ptype_code,\n",
    "    pr.expiration_date_gmt::date as expiration_date,\n",
    "    (\n",
    "        select \n",
    "            v.field_content \n",
    "        from\n",
    "            sierra_view.varfield as v\n",
    "        where\n",
    "            v.record_id = rm.id \n",
    "            and v.varfield_type_code = 'b'\n",
    "        order by \n",
    "            v.occ_num \n",
    "        limit \n",
    "            1\n",
    "    ) as barcode\n",
    "FROM \n",
    "    sierra_view.record_metadata as rm \n",
    "    join sierra_view.patron_record as pr on (\n",
    "        pr.record_id = rm.id \n",
    "        and pr.ptype_code in (\n",
    "            0 , 1 , 2 , 5 , 6 , 7 , 30 , 31 , 32\n",
    "        )\n",
    "        and (pr.birth_date_gmt + interval '18 years')::date = now()::date \n",
    "    )\n",
    "WHERE \n",
    "    rm.record_type_code = 'p'\n",
    "    and rm.campus_code = ''\n",
    "\"\"\""
   ]
  },
  {
   "cell_type": "code",
   "execution_count": 4,
   "id": "8fb7ef0d-97b7-453f-bd28-71c2512ebbac",
   "metadata": {},
   "outputs": [],
   "source": [
    "# this is the message we'll patch to the patron record\n",
    "data = {\n",
    "    \"varFields\": [\n",
    "    {\n",
    "      \"fieldTag\": \"m\",\n",
    "      \"content\": f\"{datetime.now().strftime('%m/%d/%Y')} User turned 18.  Need agreement signed.\"\n",
    "    }\n",
    "  ]\n",
    "}"
   ]
  },
  {
   "cell_type": "code",
   "execution_count": 5,
   "id": "f8d5cf50-ff32-42b8-9804-74931438cc6a",
   "metadata": {},
   "outputs": [],
   "source": [
    "# r = requests.get(base_url + 'info/token', headers=headers, verify=True)"
   ]
  },
  {
   "cell_type": "code",
   "execution_count": null,
   "id": "d3a89dd8-31d2-4fdb-97da-6e6398b47a69",
   "metadata": {},
   "outputs": [],
   "source": [
    "with sierra_engine.connect() as connection:\n",
    "    try:\n",
    "        result = connection.execute(text(sql))\n",
    "    except:\n",
    "        pass\n",
    "        # TODO: logging\n",
    "    for i, row in enumerate(result):\n",
    "        print(i, row, end=', ')\n",
    "        \n",
    "        try:\n",
    "            r = requests.put(\n",
    "                url=f\"{base_url}patrons/{row['patron_record_num']}\",\n",
    "                headers=headers,\n",
    "                json=data\n",
    "            )\n",
    "            print(r.status_code)\n",
    "        # break\n",
    "        # print(\"username:\", row[\"username\"])\n",
    "        \n",
    "        except:\n",
    "            pass\n",
    "            # TODO logging"
   ]
  },
  {
   "cell_type": "code",
   "execution_count": 7,
   "id": "64454027-450d-4c12-a5e0-19e3d01de213",
   "metadata": {},
   "outputs": [
    {
     "data": {
      "text/plain": [
       "204"
      ]
     },
     "execution_count": 7,
     "metadata": {},
     "output_type": "execute_result"
    }
   ],
   "source": [
    "r.status_code"
   ]
  }
 ],
 "metadata": {
  "kernelspec": {
   "display_name": "Python 3 (ipykernel)",
   "language": "python",
   "name": "python3"
  },
  "language_info": {
   "codemirror_mode": {
    "name": "ipython",
    "version": 3
   },
   "file_extension": ".py",
   "mimetype": "text/x-python",
   "name": "python",
   "nbconvert_exporter": "python",
   "pygments_lexer": "ipython3",
   "version": "3.10.6"
  }
 },
 "nbformat": 4,
 "nbformat_minor": 5
}
