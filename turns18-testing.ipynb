{
 "cells": [
  {
   "cell_type": "code",
   "execution_count": 1,
   "id": "dd2befc8-9343-484f-8e70-d8fd9af14160",
   "metadata": {},
   "outputs": [],
   "source": [
    "# !pip install -U sqlalchemy\n",
    "# !pip install -U psycopg2-binary\n",
    "# !pip install -U requests\n",
    "\n",
    "# !pip freeze > requirements.txt"
   ]
  },
  {
   "cell_type": "code",
   "execution_count": 2,
   "id": "eefdd52b-2c47-47fa-a588-7928edc88f5a",
   "metadata": {},
   "outputs": [],
   "source": [
    "# set up the logging\n",
    "# https://docs.python.org/3.7/howto/logging-cookbook.html#using-a-rotator-and-namer-to-customize-log-rotation-processing\n",
    "# https://docs.python.org/3/howto/logging-cookbook.html#using-a-rotator-and-namer-to-customize-log-rotation-processing\n",
    "import gzip\n",
    "import logging\n",
    "import logging.handlers\n",
    "import os\n",
    "import shutil\n",
    "\n",
    "def namer(name):\n",
    "    return name + \".gz\"\n",
    "\n",
    "def rotator(source, dest):\n",
    "    with open(source, 'rb') as f_in:\n",
    "        with gzip.open(dest, 'wb') as f_out:\n",
    "            shutil.copyfileobj(f_in, f_out)\n",
    "    os.remove(source)\n",
    "\n",
    "rh = logging.handlers.RotatingFileHandler(\n",
    "    'turns18.log',\n",
    "    maxBytes=524288, \n",
    "    backupCount=3\n",
    ")\n",
    "rh.rotator = rotator\n",
    "rh.namer = namer\n",
    "\n",
    "root = logging.getLogger()\n",
    "root.setLevel(logging.INFO)\n",
    "root.addHandler(rh)\n",
    "f = logging.Formatter('%(asctime)s %(name)s %(levelname)s %(message)s')\n",
    "rh.setFormatter(f)\n",
    "\n",
    "logging.info('Script Started')"
   ]
  },
  {
   "cell_type": "code",
   "execution_count": 3,
   "id": "fac6db71-7904-4a8f-89bd-d0eb0091280c",
   "metadata": {},
   "outputs": [],
   "source": [
    "# sierraAPI are helper functions for the REST API\n",
    "import sierraAPI\n",
    "import json\n",
    "import requests\n",
    "from sqlalchemy import create_engine, text\n",
    "from datetime import datetime"
   ]
  },
  {
   "cell_type": "code",
   "execution_count": 4,
   "id": "e6a8c8d1-77cf-42e2-8bf3-379cdba356b9",
   "metadata": {
    "tags": []
   },
   "outputs": [],
   "source": [
    "# read the configuration file\n",
    "try:\n",
    "    with open(\"config.json\", \"r\") as f:\n",
    "        config = json.load(f)\n",
    "\n",
    "    client_key = config[\"client_key\"]\n",
    "    client_secret = config[\"client_secret\"]\n",
    "    base_url = config[\"base_url\"]\n",
    "    db_connection_string = config[\"db_connection_string\"]\n",
    "    logging.info(f\"base_url: {base_url}\")\n",
    "    \n",
    "except:\n",
    "    logging.error('error opening config.json')\n",
    "    # TODO: logging\n",
    "    exit()"
   ]
  },
  {
   "cell_type": "code",
   "execution_count": 5,
   "id": "9b5c39a7-e6c6-4c2b-b8a7-9067cdd05f84",
   "metadata": {},
   "outputs": [],
   "source": [
    "# connect to the Sierra DB\n",
    "try:\n",
    "    sierra_engine = create_engine(db_connection_string)\n",
    "    # print(f\"sierra_engine.url: {sierra_engine.url}\")\n",
    "\n",
    "except:\n",
    "    logging.error('error connecting to Sierra DB')\n",
    "    exit()\n",
    "    \n",
    "# get the header for API authorization\n",
    "try:\n",
    "    headers = sierraAPI.get_access_headers(\n",
    "        client_key=client_key, \n",
    "        client_secret=client_secret, \n",
    "        base_url=base_url\n",
    "    )\n",
    "    \n",
    "    r = requests.get(base_url + 'info/token', headers=headers, verify=True)\n",
    "    logging.info(f\"token expires in: {r.json()['expiresIn']}\")\n",
    "\n",
    "except:\n",
    "    logging.error(f\"Could not get API authorization: {r.text}\")\n",
    "    exit()"
   ]
  },
  {
   "cell_type": "code",
   "execution_count": 6,
   "id": "2adba978-1dfd-489b-b2d1-65d314b04731",
   "metadata": {},
   "outputs": [],
   "source": [
    "# get relevant information related to patrons who have turned 18 on this date\n",
    "sql = \"\"\"\\\n",
    "select\n",
    "    rm.record_num as patron_record_num,\n",
    "    pr.ptype_code,\n",
    "    pr.expiration_date_gmt::date as expiration_date,\n",
    "    (\n",
    "        select \n",
    "            v.field_content \n",
    "        from\n",
    "            sierra_view.varfield as v\n",
    "        where\n",
    "            v.record_id = rm.id \n",
    "            and v.varfield_type_code = 'b'\n",
    "        order by \n",
    "            v.occ_num \n",
    "        limit \n",
    "            1\n",
    "    ) as barcode\n",
    "FROM \n",
    "    sierra_view.record_metadata as rm \n",
    "    join sierra_view.patron_record as pr on (\n",
    "        pr.record_id = rm.id \n",
    "        and pr.ptype_code in (\n",
    "            0 , 1 , 2 , 5 , 6 , 7 , 30 , 31 , 32\n",
    "        )\n",
    "        and (pr.birth_date_gmt + interval '18 years')::date = '2022-01-22' -- now()::date \n",
    "    )\n",
    "WHERE \n",
    "    rm.record_type_code = 'p'\n",
    "    and rm.campus_code = ''\n",
    "\"\"\""
   ]
  },
  {
   "cell_type": "code",
   "execution_count": 7,
   "id": "8fb7ef0d-97b7-453f-bd28-71c2512ebbac",
   "metadata": {},
   "outputs": [],
   "source": [
    "# this is the message we'll patch to the patron record\n",
    "data = {\n",
    "    \"varFields\": [\n",
    "    {\n",
    "      \"fieldTag\": \"m\",\n",
    "      \"content\": f\"{datetime.now().strftime('%m/%d/%Y')} User turned 18.  Need agreement signed.\"\n",
    "    }\n",
    "  ]\n",
    "}"
   ]
  },
  {
   "cell_type": "code",
   "execution_count": 8,
   "id": "d3a89dd8-31d2-4fdb-97da-6e6398b47a69",
   "metadata": {},
   "outputs": [],
   "source": [
    "with sierra_engine.connect() as connection:\n",
    "    try:\n",
    "        result = connection.execute(text(sql))\n",
    "    except:\n",
    "        logging.error('Could not execute sql')\n",
    "        exit()\n",
    "        \n",
    "    for i, row in enumerate(result):\n",
    "        try:\n",
    "            url=f\"{base_url}patrons/{row['patron_record_num']}\"\n",
    "            r = requests.put(\n",
    "                url=url,\n",
    "                headers=headers,\n",
    "                json=data\n",
    "            )\n",
    "            logging.info(f\"{i} PUT: {url} patron_data: {row} status_code: {r.status_code}\")\n",
    "        \n",
    "        except:\n",
    "            logging.error(f\"Could not patch patron: {row['patron_record_num']}\")"
   ]
  },
  {
   "cell_type": "code",
   "execution_count": 9,
   "id": "64454027-450d-4c12-a5e0-19e3d01de213",
   "metadata": {},
   "outputs": [
    {
     "data": {
      "text/plain": [
       "204"
      ]
     },
     "execution_count": 9,
     "metadata": {},
     "output_type": "execute_result"
    }
   ],
   "source": [
    "logging.info('Script Finished')"
   ]
  }
 ],
 "metadata": {
  "kernelspec": {
   "display_name": "Python 3 (ipykernel)",
   "language": "python",
   "name": "python3"
  },
  "language_info": {
   "codemirror_mode": {
    "name": "ipython",
    "version": 3
   },
   "file_extension": ".py",
   "mimetype": "text/x-python",
   "name": "python",
   "nbconvert_exporter": "python",
   "pygments_lexer": "ipython3",
   "version": "3.7.3"
  }
 },
 "nbformat": 4,
 "nbformat_minor": 5
}
